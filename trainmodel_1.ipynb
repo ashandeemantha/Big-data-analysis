{
 "cells": [
  {
   "cell_type": "code",
   "execution_count": 1,
   "id": "1629f1c5-159f-4d2a-b771-33bf6cb9363b",
   "metadata": {},
   "outputs": [],
   "source": [
    "#required libraries\n",
    "import numpy as np\n",
    "import random \n",
    "import matplotlib.pyplot as plt"
   ]
  },
  {
   "cell_type": "code",
   "execution_count": 3,
   "id": "10a3a289-f047-4bec-9869-eae8f7dba666",
   "metadata": {},
   "outputs": [],
   "source": [
    "#setting up the grid\n",
    "grid_size = 4\n",
    "goal = (3,3)\n",
    "obstacles = [(1,1),(2,2)]"
   ]
  },
  {
   "cell_type": "code",
   "execution_count": 5,
   "id": "120aa7f9-a67e-4b53-bb81-afedee0a0af2",
   "metadata": {},
   "outputs": [],
   "source": [
    "#Actions and Q table\n",
    "actions = [\"UP\",\"DOWN\",\"LEFT\",\"RIGHT\"]\n",
    "q = np.zeros((grid_size, grid_size, len(actions)))\n",
    "#Q table is important for the learning process of the agent, it will all the actions and reward to train the model. "
   ]
  },
  {
   "cell_type": "code",
   "execution_count": 7,
   "id": "4a5dd9fd-f42c-4742-b681-464c6b884120",
   "metadata": {},
   "outputs": [],
   "source": [
    "# Submarine movements (action)\n",
    "def move(state, action):\n",
    "    moves = {\"UP\": (-1, 0), \"DOWN\": (1, 0), \"LEFT\": (0, -1), \"RIGHT\": (0, 1)}\n",
    "    new_state = (state[0] + moves[action][0], state[1] + moves[action][1])\n",
    "    \n",
    "    if 0 <= new_state[0] < grid_size and 0 <= new_state[1] < grid_size and new_state not in obstacles:\n",
    "        return new_state\n",
    "    else:\n",
    "        return state"
   ]
  },
  {
   "cell_type": "code",
   "execution_count": 9,
   "id": "5d7880ec-0faa-43b4-aadf-c8231c69fd20",
   "metadata": {},
   "outputs": [],
   "source": [
    "# Training the model\n",
    "for _ in range(100):\n",
    "    state = (0, 0)\n",
    "    while state != goal:\n",
    "        action = random.choice(actions)\n",
    "        new_state = move(state, action)\n",
    "        reward = 10 if new_state == goal else (-5 if new_state in obstacles else -1)\n",
    "        q[state][actions.index(action)] += 0.5 * (\n",
    "            reward + 0.9 * np.max(q[new_state]) - q[state][actions.index(action)]\n",
    "        )\n",
    "        state = new_state"
   ]
  },
  {
   "cell_type": "code",
   "execution_count": 11,
   "id": "d4a008a8-7814-441a-ad66-956204e6a6d2",
   "metadata": {},
   "outputs": [],
   "source": [
    "# Testing\n",
    "state, path = (0, 0), [(0, 0)]\n",
    "while state != goal:\n",
    "    action = actions[np.argmax(q[state])]\n",
    "    state = move(state, action)\n",
    "    path.append(state)"
   ]
  },
  {
   "cell_type": "code",
   "execution_count": 13,
   "id": "b6fd39ff-bcfb-4bc2-9c81-f77913943d92",
   "metadata": {},
   "outputs": [
    {
     "data": {
      "image/png": "[encoded data removed]",
      "text/plain": [
       "<Figure size 640x480 with 1 Axes>"
      ]
     },
     "metadata": {},
     "output_type": "display_data"
    }
   ],
   "source": [
    "# Draw the path\n",
    "grid = np.zeros((grid_size, grid_size))\n",
    "for obs in obstacles:\n",
    "    grid[obs] = -1\n",
    "\n",
    "grid[goal] = 2\n",
    "\n",
    "plt.imshow(grid, cmap=\"gray_r\", origin=\"upper\")\n",
    "for (x, y) in path:\n",
    "    plt.text(y, x, \"a\", ha=\"center\", va=\"center\", fontsize=15, color=\"red\" if (x, y) != goal else \"green\")\n",
    "\n",
    "plt.xticks(range(grid_size))\n",
    "plt.yticks(range(grid_size))\n",
    "plt.grid(True)\n",
    "plt.show()"
   ]
  }
 ],
 "metadata": {
  "kernelspec": {
   "display_name": "Python [conda env:base] *",
   "language": "python",
   "name": "conda-base-py"
  },
  "language_info": {
   "codemirror_mode": {
    "name": "ipython",
    "version": 3
   },
   "file_extension": ".py",
   "mimetype": "text/x-python",
   "name": "python",
   "nbconvert_exporter": "python",
   "pygments_lexer": "ipython3",
   "version": "3.12.7"
  }
 },
 "nbformat": 4,
 "nbformat_minor": 5
}
