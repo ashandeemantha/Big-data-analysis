{
 "cells": [
  {
   "cell_type": "code",
   "execution_count": null,
   "id": "6567498c-7afd-47ce-8748-c12666b44489",
   "metadata": {},
   "outputs": [],
   "source": [
    "import snowflake.connector\n",
    "import pandas as pd\n",
    "\n",
    "# Connect to Snowflake\n",
    "conn = snowflake.connector.connect(\n",
    "    user=\"SSRR77\",\n",
    "    password=\"Enh^BWa47jPRtb\",\n",
    "    account=\"CWBQOMV.NK53658\"\n",
    ")\n",
    "\n",
    "# Fetch the latest processed data\n",
    "query = \"SELECT * FROM processed_data_table ORDER BY timestamp DESC LIMIT 10\"\n",
    "df = pd.read_sql(query, conn)\n",
    "\n",
    "# Display data\n",
    "print(df)\n",
    "\n",
    "# Close connection\n",
    "conn.close()\n"
   ]
  },
  {
   "cell_type": "code",
   "execution_count": 12,
   "id": "08c61f5a-9486-4822-b965-f6e9494a2ca0",
   "metadata": {},
   "outputs": [
    {
     "ename": "NameError",
     "evalue": "name 'df' is not defined",
     "output_type": "error",
     "traceback": [
      "\u001b[1;31m---------------------------------------------------------------------------\u001b[0m",
      "\u001b[1;31mNameError\u001b[0m                                 Traceback (most recent call last)",
      "Cell \u001b[1;32mIn[12], line 9\u001b[0m\n\u001b[0;32m      5\u001b[0m \u001b[38;5;66;03m# Assuming your dataset is loaded in a DataFrame named 'df'\u001b[39;00m\n\u001b[0;32m      6\u001b[0m \n\u001b[0;32m      7\u001b[0m \u001b[38;5;66;03m# 1. Time Series Plot for Corn Price and Yield\u001b[39;00m\n\u001b[0;32m      8\u001b[0m plt\u001b[38;5;241m.\u001b[39mfigure(figsize\u001b[38;5;241m=\u001b[39m(\u001b[38;5;241m12\u001b[39m, \u001b[38;5;241m6\u001b[39m))\n\u001b[1;32m----> 9\u001b[0m plt\u001b[38;5;241m.\u001b[39mplot(df[\u001b[38;5;124m'\u001b[39m\u001b[38;5;124mYear\u001b[39m\u001b[38;5;124m'\u001b[39m], df[\u001b[38;5;124m'\u001b[39m\u001b[38;5;124mCorn_Price\u001b[39m\u001b[38;5;124m'\u001b[39m], label\u001b[38;5;241m=\u001b[39m\u001b[38;5;124m'\u001b[39m\u001b[38;5;124mCorn Price\u001b[39m\u001b[38;5;124m'\u001b[39m, color\u001b[38;5;241m=\u001b[39m\u001b[38;5;124m'\u001b[39m\u001b[38;5;124mb\u001b[39m\u001b[38;5;124m'\u001b[39m)\n\u001b[0;32m     10\u001b[0m plt\u001b[38;5;241m.\u001b[39mplot(df[\u001b[38;5;124m'\u001b[39m\u001b[38;5;124mYear\u001b[39m\u001b[38;5;124m'\u001b[39m], df[\u001b[38;5;124m'\u001b[39m\u001b[38;5;124mCorn_Yield\u001b[39m\u001b[38;5;124m'\u001b[39m], label\u001b[38;5;241m=\u001b[39m\u001b[38;5;124m'\u001b[39m\u001b[38;5;124mCorn Yield\u001b[39m\u001b[38;5;124m'\u001b[39m, color\u001b[38;5;241m=\u001b[39m\u001b[38;5;124m'\u001b[39m\u001b[38;5;124mg\u001b[39m\u001b[38;5;124m'\u001b[39m)\n\u001b[0;32m     11\u001b[0m plt\u001b[38;5;241m.\u001b[39mtitle(\u001b[38;5;124m'\u001b[39m\u001b[38;5;124mCorn Price and Yield Over Time\u001b[39m\u001b[38;5;124m'\u001b[39m)\n",
      "\u001b[1;31mNameError\u001b[0m: name 'df' is not defined"
     ]
    },
    {
     "data": {
      "text/plain": [
       "<Figure size 1200x600 with 0 Axes>"
      ]
     },
     "metadata": {},
     "output_type": "display_data"
    }
   ],
   "source": [
    "import matplotlib.pyplot as plt\n",
    "import seaborn as sns\n",
    "import pandas as pd\n",
    "\n",
    "# Assuming your dataset is loaded in a DataFrame named 'df'\n",
    "\n",
    "# 1. Time Series Plot for Corn Price and Yield\n",
    "plt.figure(figsize=(12, 6))\n",
    "plt.plot(df['Year'], df['Corn_Price'], label='Corn Price', color='b')\n",
    "plt.plot(df['Year'], df['Corn_Yield'], label='Corn Yield', color='g')\n",
    "plt.title('Corn Price and Yield Over Time')\n",
    "plt.xlabel('Year')\n",
    "plt.ylabel('Value')\n",
    "plt.legend()\n",
    "plt.grid(True)\n",
    "plt.show()\n",
    "\n",
    "# 2. Correlation Heatmap\n",
    "plt.figure(figsize=(10, 8))\n",
    "correlation_matrix = df.corr()\n",
    "sns.heatmap(correlation_matrix, annot=True, cmap='coolwarm', fmt='.2f', linewidths=0.5)\n",
    "plt.title('Correlation Heatmap')\n",
    "plt.show()\n",
    "\n",
    "# 3. Distribution Plot for Corn Price and Yield\n",
    "plt.figure(figsize=(12, 6))\n",
    "sns.histplot(df['Corn_Price'], kde=True, color='b', label='Corn Price', bins=30)\n",
    "sns.histplot(df['Corn_Yield'], kde=True, color='g', label='Corn Yield', bins=30)\n",
    "plt.title('Distribution of Corn Price and Yield')\n",
    "plt.xlabel('Value')\n",
    "plt.ylabel('Frequency')\n",
    "plt.legend()\n",
    "plt.show()\n",
    "\n",
    "# 4. Box Plot to Detect Outliers in Corn Price and Yield\n",
    "plt.figure(figsize=(12, 6))\n",
    "sns.boxplot(data=df[['Corn_Price', 'Corn_Yield']])\n",
    "plt.title('Box Plot of Corn Price and Yield')\n",
    "plt.ylabel('Value')\n",
    "plt.show()\n",
    "\n",
    "# 5. Scatter Plot to show Relationship between Temperature and Yield (Assuming 'Temperature' is in your dataset)\n",
    "plt.figure(figsize=(10, 6))\n",
    "sns.scatterplot(x=df['Temperature'], y=df['Corn_Yield'])\n",
    "plt.title('Temperature vs Corn Yield')\n",
    "plt.xlabel('Temperature')\n",
    "plt.ylabel('Corn Yield')\n",
    "plt.show()\n",
    "\n",
    "# 6. Pair Plot for Multiple Features (Optional, if you have more features like rainfall, temperature, etc.)\n",
    "sns.pairplot(df[['Corn_Price', 'Corn_Yield', 'Temperature', 'Rainfall']])\n",
    "plt.show()\n"
   ]
  },
  {
   "cell_type": "code",
   "execution_count": null,
   "id": "e7572db5-8056-4e95-9db8-40489dedc352",
   "metadata": {},
   "outputs": [],
   "source": []
  }
 ],
 "metadata": {
  "kernelspec": {
   "display_name": "Python [conda env:base] *",
   "language": "python",
   "name": "conda-base-py"
  },
  "language_info": {
   "codemirror_mode": {
    "name": "ipython",
    "version": 3
   },
   "file_extension": ".py",
   "mimetype": "text/x-python",
   "name": "python",
   "nbconvert_exporter": "python",
   "pygments_lexer": "ipython3",
   "version": "3.12.7"
  }
 },
 "nbformat": 4,
 "nbformat_minor": 5
}
