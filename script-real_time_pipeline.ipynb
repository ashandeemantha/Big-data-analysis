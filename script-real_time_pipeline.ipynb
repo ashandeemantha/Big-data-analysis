{
 "cells": [
  {
   "cell_type": "code",
   "execution_count": 31,
   "id": "72c78a2d-5582-41df-9a30-933fb53f24ba",
   "metadata": {},
   "outputs": [
    {
     "name": "stdout",
     "output_type": "stream",
     "text": [
      "Requirement already satisfied: snowflake-connector-python in c:\\users\\sudiy\\anaconda3\\lib\\site-packages (3.14.0)\n",
      "Requirement already satisfied: asn1crypto<2.0.0,>0.24.0 in c:\\users\\sudiy\\anaconda3\\lib\\site-packages (from snowflake-connector-python) (1.5.1)\n",
      "Requirement already satisfied: cffi<2.0.0,>=1.9 in c:\\users\\sudiy\\anaconda3\\lib\\site-packages (from snowflake-connector-python) (1.17.1)\n",
      "Requirement already satisfied: cryptography>=3.1.0 in c:\\users\\sudiy\\anaconda3\\lib\\site-packages (from snowflake-connector-python) (43.0.0)\n",
      "Requirement already satisfied: pyOpenSSL<26.0.0,>=22.0.0 in c:\\users\\sudiy\\anaconda3\\lib\\site-packages (from snowflake-connector-python) (24.2.1)\n",
      "Requirement already satisfied: pyjwt<3.0.0 in c:\\users\\sudiy\\anaconda3\\lib\\site-packages (from snowflake-connector-python) (2.8.0)\n",
      "Requirement already satisfied: pytz in c:\\users\\sudiy\\anaconda3\\lib\\site-packages (from snowflake-connector-python) (2024.1)\n",
      "Requirement already satisfied: requests<3.0.0 in c:\\users\\sudiy\\anaconda3\\lib\\site-packages (from snowflake-connector-python) (2.32.3)\n",
      "Requirement already satisfied: packaging in c:\\users\\sudiy\\anaconda3\\lib\\site-packages (from snowflake-connector-python) (24.1)\n",
      "Requirement already satisfied: charset_normalizer<4,>=2 in c:\\users\\sudiy\\anaconda3\\lib\\site-packages (from snowflake-connector-python) (3.3.2)\n",
      "Requirement already satisfied: idna<4,>=2.5 in c:\\users\\sudiy\\anaconda3\\lib\\site-packages (from snowflake-connector-python) (3.7)\n",
      "Requirement already satisfied: certifi>=2017.4.17 in c:\\users\\sudiy\\anaconda3\\lib\\site-packages (from snowflake-connector-python) (2025.1.31)\n",
      "Requirement already satisfied: typing_extensions<5,>=4.3 in c:\\users\\sudiy\\anaconda3\\lib\\site-packages (from snowflake-connector-python) (4.11.0)\n",
      "Requirement already satisfied: filelock<4,>=3.5 in c:\\users\\sudiy\\anaconda3\\lib\\site-packages (from snowflake-connector-python) (3.13.1)\n",
      "Requirement already satisfied: sortedcontainers>=2.4.0 in c:\\users\\sudiy\\anaconda3\\lib\\site-packages (from snowflake-connector-python) (2.4.0)\n",
      "Requirement already satisfied: platformdirs<5.0.0,>=2.6.0 in c:\\users\\sudiy\\anaconda3\\lib\\site-packages (from snowflake-connector-python) (3.10.0)\n",
      "Requirement already satisfied: tomlkit in c:\\users\\sudiy\\anaconda3\\lib\\site-packages (from snowflake-connector-python) (0.11.1)\n",
      "Requirement already satisfied: pycparser in c:\\users\\sudiy\\anaconda3\\lib\\site-packages (from cffi<2.0.0,>=1.9->snowflake-connector-python) (2.21)\n",
      "Requirement already satisfied: urllib3<3,>=1.21.1 in c:\\users\\sudiy\\anaconda3\\lib\\site-packages (from requests<3.0.0->snowflake-connector-python) (2.2.3)\n"
     ]
    }
   ],
   "source": [
    "!pip install snowflake-connector-python\n"
   ]
  },
  {
   "cell_type": "code",
   "execution_count": 32,
   "id": "2d1bce46-c6c1-49d4-a80b-c439f8f43936",
   "metadata": {},
   "outputs": [],
   "source": [
    "import requests\n",
    "import snowflake.connector\n",
    "from datetime import datetime\n",
    "import time\n",
    "\n",
    "# API Configuration\n",
    "API_URL = \"https://www.alphavantage.co/query?function=TIME_SERIES_INTRADAY&symbol=IBM&interval=5min&apikey=KU5IC8RTW6LFWP6G\"\n",
    "API_KEY = \"KU5IC8RTW6LFWP6G\"\n",
    "\n",
    "# ⛄ Snowflake Configuration\n",
    "SNOWFLAKE_ACCOUNT = \"CWBQOMV-NK53658.snowflakecomputing.com\"\n",
    "SNOWFLAKE_USER = \"ssrr77\"\n",
    "SNOWFLAKE_PASSWORD = \"Enh^BWa47jPRtb\"\n",
    "SNOWFLAKE_WAREHOUSE = \"COMPUTE_WH\"\n",
    "SNOWFLAKE_DATABASE = \"Big Data Assignment\"\n",
    "SNOWFLAKE_SCHEMA = \"REAL_TIME_SCHEMA\"\n",
    "\n",
    "def fetch_real_time_data():\n",
    "    \"\"\"Fetch real-time data from API.\"\"\"\n",
    "    API_KEY = \"KU5IC8RTW6LFWP6G\"  # API key as a string\n",
    "    \n",
    "    # Ensure proper indentation with 4 spaces\n",
    "    headers = {\"Authorization\": f\"Bearer {API_KEY}\"}  # Correct f-string formatting\n",
    "    \n",
    "    # API URL\n",
    "    API_URL = f\"https://www.alphavantage.co/query?function=TIME_SERIES_INTRADAY&symbol=IBM&interval=5min&apikey={API_KEY}\"\n",
    "    \n",
    "    # Make API Request\n",
    "    response = requests.get(API_URL, headers=headers)\n",
    "    \n",
    "    # Check if the request is successful\n",
    "    if response.status_code == 200:\n",
    "        return response.json()  # Return the JSON response\n",
    "    else:\n",
    "        print(f\"Error fetching data: {response.status_code}\")\n",
    "        return None\n"
   ]
  },
  {
   "cell_type": "code",
   "execution_count": null,
   "id": "00bcc39c-abe4-4daa-b571-d8cd66623143",
   "metadata": {},
   "outputs": [],
   "source": []
  }
 ],
 "metadata": {
  "kernelspec": {
   "display_name": "Python [conda env:base] *",
   "language": "python",
   "name": "conda-base-py"
  },
  "language_info": {
   "codemirror_mode": {
    "name": "ipython",
    "version": 3
   },
   "file_extension": ".py",
   "mimetype": "text/x-python",
   "name": "python",
   "nbconvert_exporter": "python",
   "pygments_lexer": "ipython3",
   "version": "3.12.7"
  }
 },
 "nbformat": 4,
 "nbformat_minor": 5
}
