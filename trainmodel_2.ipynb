{
 "cells": [
  {
   "cell_type": "code",
   "execution_count": 13,
   "id": "7a78ad43-bcfc-411f-84a0-3ad1cfe2aeb5",
   "metadata": {},
   "outputs": [],
   "source": [
    "# Required libraries\n",
    "import numpy as np\n",
    "import random\n",
    "import matplotlib.pyplot as plt"
   ]
  },
  {
   "cell_type": "code",
   "execution_count": 15,
   "id": "fe9c7578-c316-40d1-85b4-c399e38ec2ab",
   "metadata": {},
   "outputs": [],
   "source": [
    "# Setting up the grid\n",
    "grid_size = 6  # 6x6 grid (0-indexed, so size is 6 to include (5,5))\n",
    "goal = (5, 5)\n",
    "obstacles = [(2, 2), (2, 4), (3, 5), (4, 2), (5, 4)]  # Updated obstacles"
   ]
  },
  {
   "cell_type": "code",
   "execution_count": 17,
   "id": "335ac275-7db9-493d-aa18-47b35173c347",
   "metadata": {},
   "outputs": [],
   "source": [
    "# Actions and Q table\n",
    "actions = [\"UP\", \"DOWN\", \"LEFT\", \"RIGHT\"]\n",
    "q = np.zeros((grid_size, grid_size, len(actions)))"
   ]
  },
  {
   "cell_type": "code",
   "execution_count": 19,
   "id": "f55bc838-37ff-4823-9ba2-2937ca9e698c",
   "metadata": {},
   "outputs": [],
   "source": [
    "# Submarine movements (action)\n",
    "def move(state, action):\n",
    "    moves = {\"UP\": (-1, 0), \"DOWN\": (1, 0), \"LEFT\": (0, -1), \"RIGHT\": (0, 1)}\n",
    "    new_state = (state[0] + moves[action][0], state[1] + moves[action][1])\n",
    "    \n",
    "    # Ensure the new state is within bounds and not an obstacle\n",
    "    if 0 <= new_state[0] < grid_size and 0 <= new_state[1] < grid_size and new_state not in obstacles:\n",
    "        return new_state\n",
    "    else:\n",
    "        return state"
   ]
  },
  {
   "cell_type": "code",
   "execution_count": 21,
   "id": "5409331d-bd5d-4246-aa8e-4fdda95397c6",
   "metadata": {},
   "outputs": [],
   "source": [
    "# Training the model\n",
    "for _ in range(100):\n",
    "    state = (0, 0)\n",
    "    while state != goal:\n",
    "        action = random.choice(actions)\n",
    "        new_state = move(state, action)\n",
    "        reward = 10 if new_state == goal else (-5 if new_state in obstacles else -1)\n",
    "        q[state][actions.index(action)] += 0.5 * (\n",
    "            reward + 0.9 * np.max(q[new_state]) - q[state][actions.index(action)]\n",
    "        )\n",
    "        state = new_state"
   ]
  },
  {
   "cell_type": "code",
   "execution_count": 23,
   "id": "8e2ef1aa-9f1f-40e8-be36-fa7336fad6f2",
   "metadata": {},
   "outputs": [],
   "source": [
    "# Testing\n",
    "state, path = (0, 0), [(0, 0)]\n",
    "while state != goal:\n",
    "    action = actions[np.argmax(q[state])]\n",
    "    state = move(state, action)\n",
    "    path.append(state)"
   ]
  },
  {
   "cell_type": "code",
   "execution_count": 25,
   "id": "147092ff-86f7-4331-8699-5aa19141a83c",
   "metadata": {},
   "outputs": [
    {
     "data": {
      "image/png": "[encoded data removed]",
      "text/plain": [
       "<Figure size 640x480 with 1 Axes>"
      ]
     },
     "metadata": {},
     "output_type": "display_data"
    }
   ],
   "source": [
    "# Draw the path\n",
    "grid = np.zeros((grid_size, grid_size))\n",
    "for obs in obstacles:\n",
    "    grid[obs] = -1\n",
    "\n",
    "grid[goal] = 2  # Mark goal with 2\n",
    "\n",
    "plt.imshow(grid, cmap=\"gray_r\", origin=\"upper\")\n",
    "for (x, y) in path:\n",
    "    plt.text(y, x, \"a\", ha=\"center\", va=\"center\", fontsize=15, color=\"red\" if (x, y) != goal else \"green\")\n",
    "\n",
    "plt.xticks(range(grid_size))\n",
    "plt.yticks(range(grid_size))\n",
    "plt.grid(True)\n",
    "plt.show()"
   ]
  }
 ],
 "metadata": {
  "kernelspec": {
   "display_name": "Python [conda env:base] *",
   "language": "python",
   "name": "conda-base-py"
  },
  "language_info": {
   "codemirror_mode": {
    "name": "ipython",
    "version": 3
   },
   "file_extension": ".py",
   "mimetype": "text/x-python",
   "name": "python",
   "nbconvert_exporter": "python",
   "pygments_lexer": "ipython3",
   "version": "3.12.7"
  }
 },
 "nbformat": 4,
 "nbformat_minor": 5
}
